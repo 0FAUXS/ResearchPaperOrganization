{
 "cells": [
  {
   "cell_type": "code",
   "execution_count": 54,
   "id": "ec09e8c2",
   "metadata": {},
   "outputs": [
    {
     "name": "stdout",
     "output_type": "stream",
     "text": [
      "                                    Titles  \\\n",
      "5  [BOOK][B] Bats: a community perspective   \n",
      "\n",
      "                                               Links  \\\n",
      "5  https://books.google.com/books?hl=en&lr=&id=cr...   \n",
      "\n",
      "                                Authors  \\\n",
      "5  JS Findley - 1995 - books.google.com   \n",
      "\n",
      "                                         Description  \n",
      "5  … This book begins with an overview of bat bio...  \n"
     ]
    }
   ],
   "source": [
    "from bs4 import BeautifulSoup\n",
    "import requests\n",
    "import pandas as pd\n",
    "from selenium import webdriver\n",
    "from selenium.webdriver.common.by import By\n",
    "from selenium.webdriver.common.keys import Keys\n",
    "\n",
    "driver = webdriver.Chrome()\n",
    "driver.get(\"https://scholar.google.com/schhp?hl=en&as_sdt=0,48\")\n",
    "\n",
    "search = driver.find_element(By.NAME, 'q')\n",
    "search.send_keys(\"bats\")\n",
    "search.send_keys(Keys.RETURN)\n",
    "\n",
    "url = driver.current_url\n",
    "titles = []\n",
    "links = []\n",
    "authors = []\n",
    "description = []\n",
    "\n",
    "response=requests.get(url)\n",
    "soup = BeautifulSoup(response.content, 'lxml')\n",
    "for item in soup.select('[data-lid]'):\n",
    "    t = item.select('h3')[0].get_text()\n",
    "    titles.append(t)\n",
    "    l = item.select('a')[0]['href']\n",
    "    links.append(l)\n",
    "    a = item.select('.gs_a')[0].get_text()\n",
    "    authors.append(a)\n",
    "    d = item.select('.gs_rs')[0].get_text()\n",
    "    description.append(d)\n",
    "    \n",
    "    \n",
    "driver.quit()\n",
    "\n",
    "df = pd.DataFrame(list(zip(titles, links, authors, description)), columns = [\"Titles\", \"Links\", \"Authors\", \"Description\"])\n",
    "print(df)"
   ]
  }
 ],
 "metadata": {
  "kernelspec": {
   "display_name": "Python 3 (ipykernel)",
   "language": "python",
   "name": "python3"
  },
  "language_info": {
   "codemirror_mode": {
    "name": "ipython",
    "version": 3
   },
   "file_extension": ".py",
   "mimetype": "text/x-python",
   "name": "python",
   "nbconvert_exporter": "python",
   "pygments_lexer": "ipython3",
   "version": "3.9.15"
  }
 },
 "nbformat": 4,
 "nbformat_minor": 5
}
