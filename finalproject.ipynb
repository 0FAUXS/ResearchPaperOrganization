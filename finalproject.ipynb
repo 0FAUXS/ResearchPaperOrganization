{
 "cells": [
  {
   "cell_type": "code",
   "execution_count": 13,
   "id": "ec09e8c2",
   "metadata": {},
   "outputs": [],
   "source": [
    "from bs4 import BeautifulSoup\n",
    "import requests\n",
    "import pandas as pd\n",
    "from selenium import webdriver\n",
    "from selenium.webdriver.common.by import By\n",
    "from selenium.webdriver.common.keys import Keys\n",
    "from selenium.common.exceptions import NoSuchElementException\n",
    "\n",
    "#Using webdriver to go to Google Scholar\n",
    "driver = webdriver.Chrome()\n",
    "driver.get(\"https://scholar.google.com/schhp?hl=en&as_sdt=0,48\")\n",
    "\n",
    "#Finding search bar, inputting parameter and hitting enter\n",
    "search = driver.find_element(By.NAME, 'q')\n",
    "search.send_keys(\"bats and kittens\")\n",
    "search.send_keys(Keys.RETURN)\n",
    "\n",
    "#getting current url for BS webscrapping, setting up lists for DF\n",
    "url = driver.current_url\n",
    "titles = []\n",
    "links = []\n",
    "authors = []\n",
    "description = []\n",
    "\n",
    "#Scraping title, link, authors, and description, adding to lists then adding lists to DF\n",
    "response=requests.get(url)\n",
    "soup = BeautifulSoup(response.content, 'lxml')\n",
    "    \n",
    "\n",
    "df = pd.DataFrame(list(zip(titles, links, authors, description)), columns = [\"Titles\", \"Links\", \"Authors\", \"Description\"])\n",
    "\n",
    "#Function to check if there is a next button on the page\n",
    "def check_next_exists(driver, xpath):\n",
    "    try:\n",
    "        driver.find_element(By.XPATH,xpath)\n",
    "    except NoSuchElementException:\n",
    "        return False\n",
    "    return True\n",
    "\n",
    "more_pages = True\n",
    "\n",
    "#While there is a next button on the webpage, scrap the webpage and add to dataframe, stop where there is no next button\n",
    "while more_pages == True:\n",
    "    for item in soup.select('[data-lid]'):\n",
    "        t = item.select('h3')[0].get_text()\n",
    "        titles.append(t)\n",
    "        l = item.select('a')[0]['href']\n",
    "        links.append(l)\n",
    "        a = item.select('.gs_a')[0].get_text()\n",
    "        authors.append(a)\n",
    "        d = item.select('.gs_rs')[0].get_text()\n",
    "        description.append(d)\n",
    "    next_page = driver.find_element(By.XPATH, '//*[@id=\"gs_n\"]/center/table/tbody/tr/td[12]/a/b')\n",
    "    next_page.click()\n",
    "    more_pages = check_next_exists(driver, \"//*[@id='gs_n']/center/table/tbody/tr/td[12]/a/b\")"
   ]
  }
 ],
 "metadata": {
  "kernelspec": {
   "display_name": "Python 3 (ipykernel)",
   "language": "python",
   "name": "python3"
  },
  "language_info": {
   "codemirror_mode": {
    "name": "ipython",
    "version": 3
   },
   "file_extension": ".py",
   "mimetype": "text/x-python",
   "name": "python",
   "nbconvert_exporter": "python",
   "pygments_lexer": "ipython3",
   "version": "3.9.15"
  }
 },
 "nbformat": 4,
 "nbformat_minor": 5
}
